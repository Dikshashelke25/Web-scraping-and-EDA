{
 "cells": [
  {
   "cell_type": "markdown",
   "id": "c3f353e5-33df-45a9-86cf-00b96e8ca68c",
   "metadata": {},
   "source": [
    "## Data Collection, Data Cleaning and EDA Project"
   ]
  },
  {
   "cell_type": "markdown",
   "id": "21bd186d-ae79-4b07-ae4d-2a4d8dc23414",
   "metadata": {},
   "source": [
    "### 1. Define Problem Statement \n",
    "#### Perform the price analysis of Air Conditioners available on Flipkart using Exploratory Data Analysis (EDA) to uncover\n",
    "#### pricing trends, and feature-price relationships, providing meaningful insights for the decision-making.\n"
   ]
  },
  {
   "cell_type": "code",
   "execution_count": 914,
   "id": "8f4f9970-c7e5-4888-9ceb-dbf98b949469",
   "metadata": {},
   "outputs": [],
   "source": [
    "# imoprting required Libraries \n",
    "import pandas as pd\n",
    "import numpy as np\n",
    "import matplotlib.pyplot as plt\n",
    "import seaborn as sns\n",
    "import requests\n",
    "from bs4 import BeautifulSoup\n",
    "import re"
   ]
  },
  {
   "cell_type": "markdown",
   "id": "7437b510-8cb1-47a0-b5de-85797d6c474b",
   "metadata": {},
   "source": [
    "### 2. Data Collection"
   ]
  },
  {
   "cell_type": "markdown",
   "id": "d99f7b36-c1cd-4c69-95be-865c361714da",
   "metadata": {},
   "source": [
    "#### Extracting Air Conditioners data from the Flipkart Website"
   ]
  },
  {
   "cell_type": "code",
   "execution_count": 917,
   "id": "a8ac589b-56a7-46b9-8df0-01254a3de828",
   "metadata": {},
   "outputs": [],
   "source": [
    "brand=[]\n",
    "model = []\n",
    "price = []\n",
    "power = []\n",
    "room_size=[]\n",
    "warranty=[]\n",
    "ratings=[]\n",
    "star = []\n",
    "capacity=[]\n",
    "for i in range(1,24):\n",
    "    url = f\"https://www.flipkart.com/search?q=air+conditioners&as=on&as-show=on&otracker=AS_Query_HistoryAutoSuggest_1_1_na_na_na&otracker1=AS_Query_HistoryAutoSuggest_1_1_na_na_na&as-pos=1&as-type=HISTORY&suggestionId=air+conditioners&requestId=c086e566-f495-457a-b438-18df47cfc4a1&as-searchtext=a&page={i}\"\n",
    "    \n",
    "    request_header = {'Content-Type': 'text/html; charset=UTF-8','User-Agent': 'Chrome/101.0.0.0 (Windows NT 10.0; Win64; x64; rv:109.0) Gecko/20100101 Firefox/119.0','Accept-Encoding': 'gzip, deflate, br'}\n",
    "    page = requests.get(url,headers = request_header)\n",
    "    soup = BeautifulSoup(page.text)\n",
    "\n",
    "     \n",
    "\n",
    "    for i in soup.find_all(\"div\",class_=\"tUxRFH\"):  # container\n",
    "\n",
    "\n",
    "        r = i.find(\"div\",class_=\"XQDdHH\")     #ratings\n",
    "        if r:\n",
    "            ratings.append(r.text)\n",
    "        else:\n",
    "            ratings.append(np.nan)\n",
    "\n",
    "\n",
    "        pp = i.find(\"div\",class_=\"Nx9bqj _4b5DiR\") # price \n",
    "        if pp:\n",
    "            price.append(pp.text)\n",
    "        else:\n",
    "            price.append(np.nan)\n",
    "\n",
    "    \n",
    "    for i in soup.find_all(\"div\",class_=\"tUxRFH\"): # container \n",
    "        text = i.text # only text\n",
    "\n",
    "        t = i.find(\"div\",class_=\"KzDlHZ\")\n",
    "        tt = t.text\n",
    "\n",
    "        b = tt.split()[0]\n",
    "\n",
    "        if b:\n",
    "            brand.append(b)\n",
    "        else:\n",
    "            brand.append(np.nan)\n",
    "\n",
    "        m = re.findall(r\"\\d+\\sModel\",text) # pattern for power\n",
    "        if m:\n",
    "            model.append(m[0])\n",
    "        else:\n",
    "            model.append(np.nan)\n",
    "\n",
    "       \n",
    "        c = re.findall(r\"\\d+\\.?+\\d?+\\d?+\\sTon\",text) # pattern for power\n",
    "        if c:\n",
    "            capacity.append(c[0])\n",
    "        else:\n",
    "            capacity.append(np.nan)\n",
    "\n",
    "       \n",
    "        p = re.findall(r\"(\\d+\\.+\\d+)\\sUnits|\\d+\\sUnits\",text) # pattern for power\n",
    "        if p:\n",
    "            power.append(p[0])\n",
    "        else:\n",
    "            power.append(np.nan)\n",
    "\n",
    "        w = re.findall(r\"\\d+\\sYear|Years|year|years|months\",text) # pattern for warranty\n",
    "        if w:\n",
    "            warranty.append(w[0])\n",
    "        else:\n",
    "            warranty.append(np.nan)\n",
    "\n",
    " \n",
    "        s = re.findall(r\"\\d+\\sStar\",text) # pattern for warranty\n",
    "        if s:\n",
    "            star.append(s[0])\n",
    "        else:\n",
    "            star.append(np.nan)\n",
    "\n",
    "\n",
    "\n",
    "    \n",
    "\n",
    "dic = {\"Brands\":brand, \"Model\":model,\"Capacity\":capacity,\"Annual Power Consumption\":power,\"Warranty\":warranty,\"Star Ratings\":star,\"Customer Rating\":ratings,\"Price\":price}"
   ]
  },
  {
   "cell_type": "markdown",
   "id": "9158bc19-93b8-490e-b8fa-78a47654c875",
   "metadata": {},
   "source": [
    "#### Create a Data Frame "
   ]
  },
  {
   "cell_type": "code",
   "execution_count": 919,
   "id": "0188723c-9e7d-4b12-9e1e-5c519074d180",
   "metadata": {},
   "outputs": [],
   "source": [
    "data = pd.DataFrame(dic)"
   ]
  },
  {
   "cell_type": "code",
   "execution_count": 920,
   "id": "8ec87bfc-a05d-46a0-8a13-cf3089a04e9f",
   "metadata": {},
   "outputs": [
    {
     "data": {
      "text/html": [
       "<div>\n",
       "<style scoped>\n",
       "    .dataframe tbody tr th:only-of-type {\n",
       "        vertical-align: middle;\n",
       "    }\n",
       "\n",
       "    .dataframe tbody tr th {\n",
       "        vertical-align: top;\n",
       "    }\n",
       "\n",
       "    .dataframe thead th {\n",
       "        text-align: right;\n",
       "    }\n",
       "</style>\n",
       "<table border=\"1\" class=\"dataframe\">\n",
       "  <thead>\n",
       "    <tr style=\"text-align: right;\">\n",
       "      <th></th>\n",
       "      <th>Brands</th>\n",
       "      <th>Model</th>\n",
       "      <th>Capacity</th>\n",
       "      <th>Annual Power Consumption</th>\n",
       "      <th>Warranty</th>\n",
       "      <th>Star Ratings</th>\n",
       "      <th>Customer Rating</th>\n",
       "      <th>Price</th>\n",
       "    </tr>\n",
       "  </thead>\n",
       "  <tbody>\n",
       "    <tr>\n",
       "      <th>0</th>\n",
       "      <td>Godrej</td>\n",
       "      <td>2024 Model</td>\n",
       "      <td>1.5 Ton</td>\n",
       "      <td>835.07</td>\n",
       "      <td>5 Year</td>\n",
       "      <td>4 Star</td>\n",
       "      <td>3.9</td>\n",
       "      <td>₹32,990</td>\n",
       "    </tr>\n",
       "    <tr>\n",
       "      <th>1</th>\n",
       "      <td>Panasonic</td>\n",
       "      <td>2025 Model</td>\n",
       "      <td>1.5 Ton</td>\n",
       "      <td>977.59</td>\n",
       "      <td>1 Year</td>\n",
       "      <td>3 Star</td>\n",
       "      <td>4</td>\n",
       "      <td>₹35,990</td>\n",
       "    </tr>\n",
       "    <tr>\n",
       "      <th>2</th>\n",
       "      <td>MarQ</td>\n",
       "      <td>NaN</td>\n",
       "      <td>1.5 Ton</td>\n",
       "      <td>781.88</td>\n",
       "      <td>1 Year</td>\n",
       "      <td>5 Star</td>\n",
       "      <td>4.1</td>\n",
       "      <td>₹29,990</td>\n",
       "    </tr>\n",
       "    <tr>\n",
       "      <th>3</th>\n",
       "      <td>Godrej</td>\n",
       "      <td>2024 Model</td>\n",
       "      <td>1.4 Ton</td>\n",
       "      <td>905.88</td>\n",
       "      <td>5 Year</td>\n",
       "      <td>3 Star</td>\n",
       "      <td>3.8</td>\n",
       "      <td>₹28,990</td>\n",
       "    </tr>\n",
       "    <tr>\n",
       "      <th>4</th>\n",
       "      <td>MarQ</td>\n",
       "      <td>NaN</td>\n",
       "      <td>1 Ton</td>\n",
       "      <td>684.9</td>\n",
       "      <td>1 Year</td>\n",
       "      <td>3 Star</td>\n",
       "      <td>4.1</td>\n",
       "      <td>₹23,990</td>\n",
       "    </tr>\n",
       "    <tr>\n",
       "      <th>...</th>\n",
       "      <td>...</td>\n",
       "      <td>...</td>\n",
       "      <td>...</td>\n",
       "      <td>...</td>\n",
       "      <td>...</td>\n",
       "      <td>...</td>\n",
       "      <td>...</td>\n",
       "      <td>...</td>\n",
       "    </tr>\n",
       "    <tr>\n",
       "      <th>259</th>\n",
       "      <td>Midea</td>\n",
       "      <td>2025 Model</td>\n",
       "      <td>2 Ton</td>\n",
       "      <td>1249.82</td>\n",
       "      <td>1 Year</td>\n",
       "      <td>3 Star</td>\n",
       "      <td>4.3</td>\n",
       "      <td>₹41,990</td>\n",
       "    </tr>\n",
       "    <tr>\n",
       "      <th>260</th>\n",
       "      <td>Blue</td>\n",
       "      <td>NaN</td>\n",
       "      <td>1 Ton</td>\n",
       "      <td>517.83</td>\n",
       "      <td>1 Year</td>\n",
       "      <td>5 Star</td>\n",
       "      <td>NaN</td>\n",
       "      <td>₹37,790</td>\n",
       "    </tr>\n",
       "    <tr>\n",
       "      <th>261</th>\n",
       "      <td>Blue</td>\n",
       "      <td>NaN</td>\n",
       "      <td>1 Ton</td>\n",
       "      <td>694.32</td>\n",
       "      <td>1 Year</td>\n",
       "      <td>3 Star</td>\n",
       "      <td>4.1</td>\n",
       "      <td>₹35,870</td>\n",
       "    </tr>\n",
       "    <tr>\n",
       "      <th>262</th>\n",
       "      <td>Sansui</td>\n",
       "      <td>2025 Model</td>\n",
       "      <td>1.5 Ton</td>\n",
       "      <td>NaN</td>\n",
       "      <td>1 Year</td>\n",
       "      <td>5 Star</td>\n",
       "      <td>4.2</td>\n",
       "      <td>₹34,490</td>\n",
       "    </tr>\n",
       "    <tr>\n",
       "      <th>263</th>\n",
       "      <td>CARRIER</td>\n",
       "      <td>2024 Model</td>\n",
       "      <td>1.5 Ton</td>\n",
       "      <td>754.05</td>\n",
       "      <td>1 Year</td>\n",
       "      <td>5 Star</td>\n",
       "      <td>4</td>\n",
       "      <td>₹39,990</td>\n",
       "    </tr>\n",
       "  </tbody>\n",
       "</table>\n",
       "<p>264 rows × 8 columns</p>\n",
       "</div>"
      ],
      "text/plain": [
       "        Brands       Model Capacity Annual Power Consumption Warranty  \\\n",
       "0       Godrej  2024 Model  1.5 Ton                   835.07   5 Year   \n",
       "1    Panasonic  2025 Model  1.5 Ton                   977.59   1 Year   \n",
       "2         MarQ         NaN  1.5 Ton                   781.88   1 Year   \n",
       "3       Godrej  2024 Model  1.4 Ton                   905.88   5 Year   \n",
       "4         MarQ         NaN    1 Ton                    684.9   1 Year   \n",
       "..         ...         ...      ...                      ...      ...   \n",
       "259      Midea  2025 Model    2 Ton                  1249.82   1 Year   \n",
       "260       Blue         NaN    1 Ton                   517.83   1 Year   \n",
       "261       Blue         NaN    1 Ton                   694.32   1 Year   \n",
       "262     Sansui  2025 Model  1.5 Ton                      NaN   1 Year   \n",
       "263    CARRIER  2024 Model  1.5 Ton                   754.05   1 Year   \n",
       "\n",
       "    Star Ratings Customer Rating    Price  \n",
       "0         4 Star             3.9  ₹32,990  \n",
       "1         3 Star               4  ₹35,990  \n",
       "2         5 Star             4.1  ₹29,990  \n",
       "3         3 Star             3.8  ₹28,990  \n",
       "4         3 Star             4.1  ₹23,990  \n",
       "..           ...             ...      ...  \n",
       "259       3 Star             4.3  ₹41,990  \n",
       "260       5 Star             NaN  ₹37,790  \n",
       "261       3 Star             4.1  ₹35,870  \n",
       "262       5 Star             4.2  ₹34,490  \n",
       "263       5 Star               4  ₹39,990  \n",
       "\n",
       "[264 rows x 8 columns]"
      ]
     },
     "execution_count": 920,
     "metadata": {},
     "output_type": "execute_result"
    }
   ],
   "source": [
    "data"
   ]
  },
  {
   "cell_type": "code",
   "execution_count": 921,
   "id": "8a366d04-4532-4102-bd37-b48953a89e15",
   "metadata": {},
   "outputs": [],
   "source": [
    "data['Brands'] = data['Brands'].replace('Blue', 'Blue Star')"
   ]
  },
  {
   "cell_type": "markdown",
   "id": "4b665fdb-ef35-4241-a41c-542bec6a736f",
   "metadata": {},
   "source": [
    "#### Export data into .csv format "
   ]
  },
  {
   "cell_type": "code",
   "execution_count": 923,
   "id": "9634c08e-ee02-445f-84a5-0fbf57590ade",
   "metadata": {},
   "outputs": [],
   "source": [
    "data.to_csv(\"AirConditionersFlipkart.csv\")"
   ]
  },
  {
   "cell_type": "markdown",
   "id": "fd3c1738-a614-420b-968b-e1a12169ee8a",
   "metadata": {},
   "source": [
    "#### Read CSV File "
   ]
  },
  {
   "cell_type": "code",
   "execution_count": 925,
   "id": "9f797a5b-fcc9-41bc-8af8-d87daf3535f2",
   "metadata": {},
   "outputs": [],
   "source": [
    "df = pd.read_csv(\"AirConditionersFlipkart.csv\", index_col=0)"
   ]
  },
  {
   "cell_type": "markdown",
   "id": "d5de50db-8723-49e1-b7c7-384525e43461",
   "metadata": {},
   "source": [
    "### 3. Data Cleaning"
   ]
  },
  {
   "cell_type": "code",
   "execution_count": 927,
   "id": "7c349e01-6952-45b1-b6fc-debfde29686b",
   "metadata": {},
   "outputs": [],
   "source": [
    "# Converting the datatype to str\n",
    "df[\"Model\"] = df[\"Model\"].astype(str)  \n",
    "df[\"Capacity\"] = df[\"Capacity\"].astype(str)  \n",
    "df[\"Warranty\"] = df[\"Warranty\"].astype(str)  \n",
    "df[\"Star Ratings\"] = df[\"Star Ratings\"].astype(str)\n",
    "df[\"Price\"] = df[\"Price\"].astype(str)  "
   ]
  },
  {
   "cell_type": "code",
   "execution_count": 928,
   "id": "046f5743-6c73-4ff6-9c31-1b61483a8a5a",
   "metadata": {},
   "outputs": [
    {
     "data": {
      "text/plain": [
       "Brands                       object\n",
       "Model                        object\n",
       "Capacity                     object\n",
       "Annual Power Consumption    float64\n",
       "Warranty                     object\n",
       "Star Ratings                 object\n",
       "Customer Rating             float64\n",
       "Price                        object\n",
       "dtype: object"
      ]
     },
     "execution_count": 928,
     "metadata": {},
     "output_type": "execute_result"
    }
   ],
   "source": [
    "df.dtypes"
   ]
  },
  {
   "cell_type": "code",
   "execution_count": 929,
   "id": "26f75653-bcfa-4347-afa1-53b1c4b0da56",
   "metadata": {},
   "outputs": [],
   "source": [
    "# Removing the unwanted characters and words from the data\n",
    "df['Model'] = df['Model'].str.replace(r\"\\s*Model\", \"\", regex=True)\n",
    "df['Capacity'] = df['Capacity'].str.replace(r\"\\s*Ton\", \"\", regex=True)\n",
    "df['Warranty'] = df['Warranty'].str.replace(r'\\b(Year|Years|year|years|months)\\b', '',regex=True)\n",
    "df['Star Ratings'] = df['Star Ratings'].str.replace(r\"\\s*Star\", \"\", regex=True)\n",
    "df['Price'] = df['Price'].str.replace(r'[₹ ,]', '', regex=True)"
   ]
  },
  {
   "cell_type": "code",
   "execution_count": 930,
   "id": "35cf5f10-492e-42ab-b022-f2b483e26224",
   "metadata": {},
   "outputs": [
    {
     "data": {
      "text/html": [
       "<div>\n",
       "<style scoped>\n",
       "    .dataframe tbody tr th:only-of-type {\n",
       "        vertical-align: middle;\n",
       "    }\n",
       "\n",
       "    .dataframe tbody tr th {\n",
       "        vertical-align: top;\n",
       "    }\n",
       "\n",
       "    .dataframe thead th {\n",
       "        text-align: right;\n",
       "    }\n",
       "</style>\n",
       "<table border=\"1\" class=\"dataframe\">\n",
       "  <thead>\n",
       "    <tr style=\"text-align: right;\">\n",
       "      <th></th>\n",
       "      <th>Brands</th>\n",
       "      <th>Model</th>\n",
       "      <th>Capacity</th>\n",
       "      <th>Annual Power Consumption</th>\n",
       "      <th>Warranty</th>\n",
       "      <th>Star Ratings</th>\n",
       "      <th>Customer Rating</th>\n",
       "      <th>Price</th>\n",
       "    </tr>\n",
       "  </thead>\n",
       "  <tbody>\n",
       "    <tr>\n",
       "      <th>0</th>\n",
       "      <td>Godrej</td>\n",
       "      <td>2024</td>\n",
       "      <td>1.5</td>\n",
       "      <td>835.07</td>\n",
       "      <td>5</td>\n",
       "      <td>4</td>\n",
       "      <td>3.9</td>\n",
       "      <td>32990</td>\n",
       "    </tr>\n",
       "    <tr>\n",
       "      <th>1</th>\n",
       "      <td>Panasonic</td>\n",
       "      <td>2025</td>\n",
       "      <td>1.5</td>\n",
       "      <td>977.59</td>\n",
       "      <td>1</td>\n",
       "      <td>3</td>\n",
       "      <td>4.0</td>\n",
       "      <td>35990</td>\n",
       "    </tr>\n",
       "    <tr>\n",
       "      <th>2</th>\n",
       "      <td>MarQ</td>\n",
       "      <td>nan</td>\n",
       "      <td>1.5</td>\n",
       "      <td>781.88</td>\n",
       "      <td>1</td>\n",
       "      <td>5</td>\n",
       "      <td>4.1</td>\n",
       "      <td>29990</td>\n",
       "    </tr>\n",
       "    <tr>\n",
       "      <th>3</th>\n",
       "      <td>Godrej</td>\n",
       "      <td>2024</td>\n",
       "      <td>1.4</td>\n",
       "      <td>905.88</td>\n",
       "      <td>5</td>\n",
       "      <td>3</td>\n",
       "      <td>3.8</td>\n",
       "      <td>28990</td>\n",
       "    </tr>\n",
       "    <tr>\n",
       "      <th>4</th>\n",
       "      <td>MarQ</td>\n",
       "      <td>nan</td>\n",
       "      <td>1</td>\n",
       "      <td>684.90</td>\n",
       "      <td>1</td>\n",
       "      <td>3</td>\n",
       "      <td>4.1</td>\n",
       "      <td>23990</td>\n",
       "    </tr>\n",
       "    <tr>\n",
       "      <th>...</th>\n",
       "      <td>...</td>\n",
       "      <td>...</td>\n",
       "      <td>...</td>\n",
       "      <td>...</td>\n",
       "      <td>...</td>\n",
       "      <td>...</td>\n",
       "      <td>...</td>\n",
       "      <td>...</td>\n",
       "    </tr>\n",
       "    <tr>\n",
       "      <th>259</th>\n",
       "      <td>Midea</td>\n",
       "      <td>2025</td>\n",
       "      <td>2</td>\n",
       "      <td>1249.82</td>\n",
       "      <td>1</td>\n",
       "      <td>3</td>\n",
       "      <td>4.3</td>\n",
       "      <td>41990</td>\n",
       "    </tr>\n",
       "    <tr>\n",
       "      <th>260</th>\n",
       "      <td>Blue Star</td>\n",
       "      <td>nan</td>\n",
       "      <td>1</td>\n",
       "      <td>517.83</td>\n",
       "      <td>1</td>\n",
       "      <td>5</td>\n",
       "      <td>NaN</td>\n",
       "      <td>37790</td>\n",
       "    </tr>\n",
       "    <tr>\n",
       "      <th>261</th>\n",
       "      <td>Blue Star</td>\n",
       "      <td>nan</td>\n",
       "      <td>1</td>\n",
       "      <td>694.32</td>\n",
       "      <td>1</td>\n",
       "      <td>3</td>\n",
       "      <td>4.1</td>\n",
       "      <td>35870</td>\n",
       "    </tr>\n",
       "    <tr>\n",
       "      <th>262</th>\n",
       "      <td>Sansui</td>\n",
       "      <td>2025</td>\n",
       "      <td>1.5</td>\n",
       "      <td>NaN</td>\n",
       "      <td>1</td>\n",
       "      <td>5</td>\n",
       "      <td>4.2</td>\n",
       "      <td>34490</td>\n",
       "    </tr>\n",
       "    <tr>\n",
       "      <th>263</th>\n",
       "      <td>CARRIER</td>\n",
       "      <td>2024</td>\n",
       "      <td>1.5</td>\n",
       "      <td>754.05</td>\n",
       "      <td>1</td>\n",
       "      <td>5</td>\n",
       "      <td>4.0</td>\n",
       "      <td>39990</td>\n",
       "    </tr>\n",
       "  </tbody>\n",
       "</table>\n",
       "<p>264 rows × 8 columns</p>\n",
       "</div>"
      ],
      "text/plain": [
       "        Brands Model Capacity  Annual Power Consumption Warranty Star Ratings  \\\n",
       "0       Godrej  2024      1.5                    835.07       5             4   \n",
       "1    Panasonic  2025      1.5                    977.59       1             3   \n",
       "2         MarQ   nan      1.5                    781.88       1             5   \n",
       "3       Godrej  2024      1.4                    905.88       5             3   \n",
       "4         MarQ   nan        1                    684.90       1             3   \n",
       "..         ...   ...      ...                       ...      ...          ...   \n",
       "259      Midea  2025        2                   1249.82       1             3   \n",
       "260  Blue Star   nan        1                    517.83       1             5   \n",
       "261  Blue Star   nan        1                    694.32       1             3   \n",
       "262     Sansui  2025      1.5                       NaN       1             5   \n",
       "263    CARRIER  2024      1.5                    754.05       1             5   \n",
       "\n",
       "     Customer Rating  Price  \n",
       "0                3.9  32990  \n",
       "1                4.0  35990  \n",
       "2                4.1  29990  \n",
       "3                3.8  28990  \n",
       "4                4.1  23990  \n",
       "..               ...    ...  \n",
       "259              4.3  41990  \n",
       "260              NaN  37790  \n",
       "261              4.1  35870  \n",
       "262              4.2  34490  \n",
       "263              4.0  39990  \n",
       "\n",
       "[264 rows x 8 columns]"
      ]
     },
     "execution_count": 930,
     "metadata": {},
     "output_type": "execute_result"
    }
   ],
   "source": [
    "df"
   ]
  },
  {
   "cell_type": "code",
   "execution_count": 931,
   "id": "6086ee82-6e5a-4cbb-9ff8-4fcfdf8247b8",
   "metadata": {},
   "outputs": [],
   "source": [
    "# Converting the datatype to str\n",
    "df[\"Model\"] = pd.to_numeric(df[\"Model\"], errors='coerce') \n",
    "df[\"Capacity\"] = pd.to_numeric(df[\"Capacity\"], errors='coerce')  \n",
    "df[\"Warranty\"] = pd.to_numeric(df[\"Warranty\"], errors='coerce')  \n",
    "df[\"Star Ratings\"] = pd.to_numeric(df[\"Star Ratings\"], errors='coerce')  \n",
    "df[\"Price\"] = pd.to_numeric(df[\"Price\"], errors='coerce')"
   ]
  },
  {
   "cell_type": "code",
   "execution_count": 932,
   "id": "f83fd300-ade6-47e8-85fa-d12478ab2bcd",
   "metadata": {},
   "outputs": [
    {
     "data": {
      "text/plain": [
       "Brands                       object\n",
       "Model                       float64\n",
       "Capacity                    float64\n",
       "Annual Power Consumption    float64\n",
       "Warranty                    float64\n",
       "Star Ratings                float64\n",
       "Customer Rating             float64\n",
       "Price                         int64\n",
       "dtype: object"
      ]
     },
     "execution_count": 932,
     "metadata": {},
     "output_type": "execute_result"
    }
   ],
   "source": [
    "df.dtypes"
   ]
  },
  {
   "cell_type": "code",
   "execution_count": 933,
   "id": "10280ad9-ce2b-4a0e-ba1f-0972755570c5",
   "metadata": {},
   "outputs": [
    {
     "data": {
      "text/html": [
       "<div>\n",
       "<style scoped>\n",
       "    .dataframe tbody tr th:only-of-type {\n",
       "        vertical-align: middle;\n",
       "    }\n",
       "\n",
       "    .dataframe tbody tr th {\n",
       "        vertical-align: top;\n",
       "    }\n",
       "\n",
       "    .dataframe thead th {\n",
       "        text-align: right;\n",
       "    }\n",
       "</style>\n",
       "<table border=\"1\" class=\"dataframe\">\n",
       "  <thead>\n",
       "    <tr style=\"text-align: right;\">\n",
       "      <th></th>\n",
       "      <th>Brands</th>\n",
       "      <th>Model</th>\n",
       "      <th>Capacity</th>\n",
       "      <th>Annual Power Consumption</th>\n",
       "      <th>Warranty</th>\n",
       "      <th>Star Ratings</th>\n",
       "      <th>Customer Rating</th>\n",
       "      <th>Price</th>\n",
       "    </tr>\n",
       "  </thead>\n",
       "  <tbody>\n",
       "    <tr>\n",
       "      <th>0</th>\n",
       "      <td>Godrej</td>\n",
       "      <td>2024.0</td>\n",
       "      <td>1.5</td>\n",
       "      <td>835.07</td>\n",
       "      <td>5.0</td>\n",
       "      <td>4.0</td>\n",
       "      <td>3.9</td>\n",
       "      <td>32990</td>\n",
       "    </tr>\n",
       "    <tr>\n",
       "      <th>1</th>\n",
       "      <td>Panasonic</td>\n",
       "      <td>2025.0</td>\n",
       "      <td>1.5</td>\n",
       "      <td>977.59</td>\n",
       "      <td>1.0</td>\n",
       "      <td>3.0</td>\n",
       "      <td>4.0</td>\n",
       "      <td>35990</td>\n",
       "    </tr>\n",
       "    <tr>\n",
       "      <th>2</th>\n",
       "      <td>MarQ</td>\n",
       "      <td>NaN</td>\n",
       "      <td>1.5</td>\n",
       "      <td>781.88</td>\n",
       "      <td>1.0</td>\n",
       "      <td>5.0</td>\n",
       "      <td>4.1</td>\n",
       "      <td>29990</td>\n",
       "    </tr>\n",
       "    <tr>\n",
       "      <th>3</th>\n",
       "      <td>Godrej</td>\n",
       "      <td>2024.0</td>\n",
       "      <td>1.4</td>\n",
       "      <td>905.88</td>\n",
       "      <td>5.0</td>\n",
       "      <td>3.0</td>\n",
       "      <td>3.8</td>\n",
       "      <td>28990</td>\n",
       "    </tr>\n",
       "    <tr>\n",
       "      <th>4</th>\n",
       "      <td>MarQ</td>\n",
       "      <td>NaN</td>\n",
       "      <td>1.0</td>\n",
       "      <td>684.90</td>\n",
       "      <td>1.0</td>\n",
       "      <td>3.0</td>\n",
       "      <td>4.1</td>\n",
       "      <td>23990</td>\n",
       "    </tr>\n",
       "  </tbody>\n",
       "</table>\n",
       "</div>"
      ],
      "text/plain": [
       "      Brands   Model  Capacity  Annual Power Consumption  Warranty  \\\n",
       "0     Godrej  2024.0       1.5                    835.07       5.0   \n",
       "1  Panasonic  2025.0       1.5                    977.59       1.0   \n",
       "2       MarQ     NaN       1.5                    781.88       1.0   \n",
       "3     Godrej  2024.0       1.4                    905.88       5.0   \n",
       "4       MarQ     NaN       1.0                    684.90       1.0   \n",
       "\n",
       "   Star Ratings  Customer Rating  Price  \n",
       "0           4.0              3.9  32990  \n",
       "1           3.0              4.0  35990  \n",
       "2           5.0              4.1  29990  \n",
       "3           3.0              3.8  28990  \n",
       "4           3.0              4.1  23990  "
      ]
     },
     "execution_count": 933,
     "metadata": {},
     "output_type": "execute_result"
    }
   ],
   "source": [
    "df.head()"
   ]
  },
  {
   "cell_type": "code",
   "execution_count": 934,
   "id": "551ca120-571d-4eef-a577-dfce5218e456",
   "metadata": {},
   "outputs": [
    {
     "data": {
      "text/html": [
       "<div>\n",
       "<style scoped>\n",
       "    .dataframe tbody tr th:only-of-type {\n",
       "        vertical-align: middle;\n",
       "    }\n",
       "\n",
       "    .dataframe tbody tr th {\n",
       "        vertical-align: top;\n",
       "    }\n",
       "\n",
       "    .dataframe thead th {\n",
       "        text-align: right;\n",
       "    }\n",
       "</style>\n",
       "<table border=\"1\" class=\"dataframe\">\n",
       "  <thead>\n",
       "    <tr style=\"text-align: right;\">\n",
       "      <th></th>\n",
       "      <th>Brands</th>\n",
       "      <th>Model</th>\n",
       "      <th>Capacity</th>\n",
       "      <th>Annual Power Consumption</th>\n",
       "      <th>Warranty</th>\n",
       "      <th>Star Ratings</th>\n",
       "      <th>Customer Rating</th>\n",
       "      <th>Price</th>\n",
       "    </tr>\n",
       "  </thead>\n",
       "  <tbody>\n",
       "    <tr>\n",
       "      <th>259</th>\n",
       "      <td>Midea</td>\n",
       "      <td>2025.0</td>\n",
       "      <td>2.0</td>\n",
       "      <td>1249.82</td>\n",
       "      <td>1.0</td>\n",
       "      <td>3.0</td>\n",
       "      <td>4.3</td>\n",
       "      <td>41990</td>\n",
       "    </tr>\n",
       "    <tr>\n",
       "      <th>260</th>\n",
       "      <td>Blue Star</td>\n",
       "      <td>NaN</td>\n",
       "      <td>1.0</td>\n",
       "      <td>517.83</td>\n",
       "      <td>1.0</td>\n",
       "      <td>5.0</td>\n",
       "      <td>NaN</td>\n",
       "      <td>37790</td>\n",
       "    </tr>\n",
       "    <tr>\n",
       "      <th>261</th>\n",
       "      <td>Blue Star</td>\n",
       "      <td>NaN</td>\n",
       "      <td>1.0</td>\n",
       "      <td>694.32</td>\n",
       "      <td>1.0</td>\n",
       "      <td>3.0</td>\n",
       "      <td>4.1</td>\n",
       "      <td>35870</td>\n",
       "    </tr>\n",
       "    <tr>\n",
       "      <th>262</th>\n",
       "      <td>Sansui</td>\n",
       "      <td>2025.0</td>\n",
       "      <td>1.5</td>\n",
       "      <td>NaN</td>\n",
       "      <td>1.0</td>\n",
       "      <td>5.0</td>\n",
       "      <td>4.2</td>\n",
       "      <td>34490</td>\n",
       "    </tr>\n",
       "    <tr>\n",
       "      <th>263</th>\n",
       "      <td>CARRIER</td>\n",
       "      <td>2024.0</td>\n",
       "      <td>1.5</td>\n",
       "      <td>754.05</td>\n",
       "      <td>1.0</td>\n",
       "      <td>5.0</td>\n",
       "      <td>4.0</td>\n",
       "      <td>39990</td>\n",
       "    </tr>\n",
       "  </tbody>\n",
       "</table>\n",
       "</div>"
      ],
      "text/plain": [
       "        Brands   Model  Capacity  Annual Power Consumption  Warranty  \\\n",
       "259      Midea  2025.0       2.0                   1249.82       1.0   \n",
       "260  Blue Star     NaN       1.0                    517.83       1.0   \n",
       "261  Blue Star     NaN       1.0                    694.32       1.0   \n",
       "262     Sansui  2025.0       1.5                       NaN       1.0   \n",
       "263    CARRIER  2024.0       1.5                    754.05       1.0   \n",
       "\n",
       "     Star Ratings  Customer Rating  Price  \n",
       "259           3.0              4.3  41990  \n",
       "260           5.0              NaN  37790  \n",
       "261           3.0              4.1  35870  \n",
       "262           5.0              4.2  34490  \n",
       "263           5.0              4.0  39990  "
      ]
     },
     "execution_count": 934,
     "metadata": {},
     "output_type": "execute_result"
    }
   ],
   "source": [
    "df.tail()"
   ]
  },
  {
   "cell_type": "code",
   "execution_count": 935,
   "id": "a08cf87b-f245-4313-8fae-526685734702",
   "metadata": {},
   "outputs": [
    {
     "data": {
      "text/plain": [
       "Index(['Brands', 'Model', 'Capacity', 'Annual Power Consumption', 'Warranty',\n",
       "       'Star Ratings', 'Customer Rating', 'Price'],\n",
       "      dtype='object')"
      ]
     },
     "execution_count": 935,
     "metadata": {},
     "output_type": "execute_result"
    }
   ],
   "source": [
    "df.columns"
   ]
  },
  {
   "cell_type": "code",
   "execution_count": 936,
   "id": "041c9818-10c9-4ea5-bd72-1671cf10023c",
   "metadata": {},
   "outputs": [
    {
     "data": {
      "text/plain": [
       "(264, 8)"
      ]
     },
     "execution_count": 936,
     "metadata": {},
     "output_type": "execute_result"
    }
   ],
   "source": [
    "df.shape"
   ]
  },
  {
   "cell_type": "code",
   "execution_count": 937,
   "id": "d11b0861-6332-418e-a2b5-c04903046410",
   "metadata": {},
   "outputs": [
    {
     "data": {
      "text/plain": [
       "Brands\n",
       "Panasonic     46\n",
       "Godrej        35\n",
       "Midea         34\n",
       "Blue Star     26\n",
       "CARRIER       14\n",
       "Hitachi       13\n",
       "Daikin        12\n",
       "Sansui        11\n",
       "Lloyd         11\n",
       "Voltas        10\n",
       "LG            10\n",
       "Haier          9\n",
       "SAMSUNG        6\n",
       "MarQ           5\n",
       "IFB            4\n",
       "realme         4\n",
       "Whirlpool      4\n",
       "ONIDA          3\n",
       "O-General      3\n",
       "TCL            1\n",
       "Mitsubishi     1\n",
       "Kelvinator     1\n",
       "Sharp          1\n",
       "Name: count, dtype: int64"
      ]
     },
     "execution_count": 937,
     "metadata": {},
     "output_type": "execute_result"
    }
   ],
   "source": [
    "df.Brands.value_counts()"
   ]
  },
  {
   "cell_type": "code",
   "execution_count": 938,
   "id": "6ef357cd-0035-481f-8ffe-7b7ef9921e20",
   "metadata": {},
   "outputs": [
    {
     "data": {
      "text/plain": [
       "Brands                       0\n",
       "Model                       68\n",
       "Capacity                     1\n",
       "Annual Power Consumption    40\n",
       "Warranty                    22\n",
       "Star Ratings                 4\n",
       "Customer Rating              8\n",
       "Price                        0\n",
       "dtype: int64"
      ]
     },
     "execution_count": 938,
     "metadata": {},
     "output_type": "execute_result"
    }
   ],
   "source": [
    "df.isnull().sum()"
   ]
  },
  {
   "cell_type": "code",
   "execution_count": 939,
   "id": "1427c796-3720-47fe-94a3-bc4e42c89909",
   "metadata": {},
   "outputs": [],
   "source": [
    "df['Model'] = df['Model'].fillna(df['Model'].mode()[0])\n",
    "df['Capacity'] = df['Capacity'].fillna(df['Capacity'].mode()[0])\n",
    "df['Warranty'] = df['Warranty'].fillna(df['Warranty'].mode()[0])\n",
    "df['Annual Power Consumption'] = df['Annual Power Consumption'].fillna(df['Annual Power Consumption'].mean())\n",
    "df['Star Ratings'] = df['Star Ratings'].fillna(df['Star Ratings'].mode()[0])\n",
    "df['Customer Rating'] = df['Customer Rating'].fillna(df['Customer Rating'].mean())\n",
    "df['Price'] = df['Price'].fillna(df['Price'].mean())"
   ]
  },
  {
   "cell_type": "code",
   "execution_count": 940,
   "id": "880597de-027d-487d-b493-8fe6f3045251",
   "metadata": {},
   "outputs": [
    {
     "data": {
      "text/plain": [
       "Brands                      0\n",
       "Model                       0\n",
       "Capacity                    0\n",
       "Annual Power Consumption    0\n",
       "Warranty                    0\n",
       "Star Ratings                0\n",
       "Customer Rating             0\n",
       "Price                       0\n",
       "dtype: int64"
      ]
     },
     "execution_count": 940,
     "metadata": {},
     "output_type": "execute_result"
    }
   ],
   "source": [
    "df.isnull().sum()"
   ]
  },
  {
   "cell_type": "code",
   "execution_count": 941,
   "id": "6929feae-de1d-4711-bbf1-2a1fb43c9fbe",
   "metadata": {},
   "outputs": [
    {
     "data": {
      "text/html": [
       "<div>\n",
       "<style scoped>\n",
       "    .dataframe tbody tr th:only-of-type {\n",
       "        vertical-align: middle;\n",
       "    }\n",
       "\n",
       "    .dataframe tbody tr th {\n",
       "        vertical-align: top;\n",
       "    }\n",
       "\n",
       "    .dataframe thead th {\n",
       "        text-align: right;\n",
       "    }\n",
       "</style>\n",
       "<table border=\"1\" class=\"dataframe\">\n",
       "  <thead>\n",
       "    <tr style=\"text-align: right;\">\n",
       "      <th></th>\n",
       "      <th>Model</th>\n",
       "      <th>Capacity</th>\n",
       "      <th>Annual Power Consumption</th>\n",
       "      <th>Warranty</th>\n",
       "      <th>Star Ratings</th>\n",
       "      <th>Customer Rating</th>\n",
       "      <th>Price</th>\n",
       "    </tr>\n",
       "  </thead>\n",
       "  <tbody>\n",
       "    <tr>\n",
       "      <th>count</th>\n",
       "      <td>264.000000</td>\n",
       "      <td>264.000000</td>\n",
       "      <td>264.000000</td>\n",
       "      <td>264.000000</td>\n",
       "      <td>264.000000</td>\n",
       "      <td>264.000000</td>\n",
       "      <td>264.000000</td>\n",
       "    </tr>\n",
       "    <tr>\n",
       "      <th>mean</th>\n",
       "      <td>2024.617424</td>\n",
       "      <td>1.440720</td>\n",
       "      <td>872.102991</td>\n",
       "      <td>1.655303</td>\n",
       "      <td>3.640152</td>\n",
       "      <td>4.071094</td>\n",
       "      <td>37976.268939</td>\n",
       "    </tr>\n",
       "    <tr>\n",
       "      <th>std</th>\n",
       "      <td>0.617735</td>\n",
       "      <td>0.383028</td>\n",
       "      <td>206.654054</td>\n",
       "      <td>1.748038</td>\n",
       "      <td>0.903761</td>\n",
       "      <td>0.227619</td>\n",
       "      <td>9158.311509</td>\n",
       "    </tr>\n",
       "    <tr>\n",
       "      <th>min</th>\n",
       "      <td>2023.000000</td>\n",
       "      <td>0.750000</td>\n",
       "      <td>418.520000</td>\n",
       "      <td>1.000000</td>\n",
       "      <td>2.000000</td>\n",
       "      <td>2.200000</td>\n",
       "      <td>20990.000000</td>\n",
       "    </tr>\n",
       "    <tr>\n",
       "      <th>25%</th>\n",
       "      <td>2024.000000</td>\n",
       "      <td>1.000000</td>\n",
       "      <td>699.460000</td>\n",
       "      <td>1.000000</td>\n",
       "      <td>3.000000</td>\n",
       "      <td>4.000000</td>\n",
       "      <td>32990.000000</td>\n",
       "    </tr>\n",
       "    <tr>\n",
       "      <th>50%</th>\n",
       "      <td>2025.000000</td>\n",
       "      <td>1.500000</td>\n",
       "      <td>872.102991</td>\n",
       "      <td>1.000000</td>\n",
       "      <td>3.000000</td>\n",
       "      <td>4.100000</td>\n",
       "      <td>35990.000000</td>\n",
       "    </tr>\n",
       "    <tr>\n",
       "      <th>75%</th>\n",
       "      <td>2025.000000</td>\n",
       "      <td>1.500000</td>\n",
       "      <td>986.720000</td>\n",
       "      <td>1.000000</td>\n",
       "      <td>5.000000</td>\n",
       "      <td>4.200000</td>\n",
       "      <td>40546.750000</td>\n",
       "    </tr>\n",
       "    <tr>\n",
       "      <th>max</th>\n",
       "      <td>2025.000000</td>\n",
       "      <td>2.600000</td>\n",
       "      <td>1476.470000</td>\n",
       "      <td>10.000000</td>\n",
       "      <td>5.000000</td>\n",
       "      <td>5.000000</td>\n",
       "      <td>95990.000000</td>\n",
       "    </tr>\n",
       "  </tbody>\n",
       "</table>\n",
       "</div>"
      ],
      "text/plain": [
       "             Model    Capacity  Annual Power Consumption    Warranty  \\\n",
       "count   264.000000  264.000000                264.000000  264.000000   \n",
       "mean   2024.617424    1.440720                872.102991    1.655303   \n",
       "std       0.617735    0.383028                206.654054    1.748038   \n",
       "min    2023.000000    0.750000                418.520000    1.000000   \n",
       "25%    2024.000000    1.000000                699.460000    1.000000   \n",
       "50%    2025.000000    1.500000                872.102991    1.000000   \n",
       "75%    2025.000000    1.500000                986.720000    1.000000   \n",
       "max    2025.000000    2.600000               1476.470000   10.000000   \n",
       "\n",
       "       Star Ratings  Customer Rating         Price  \n",
       "count    264.000000       264.000000    264.000000  \n",
       "mean       3.640152         4.071094  37976.268939  \n",
       "std        0.903761         0.227619   9158.311509  \n",
       "min        2.000000         2.200000  20990.000000  \n",
       "25%        3.000000         4.000000  32990.000000  \n",
       "50%        3.000000         4.100000  35990.000000  \n",
       "75%        5.000000         4.200000  40546.750000  \n",
       "max        5.000000         5.000000  95990.000000  "
      ]
     },
     "execution_count": 941,
     "metadata": {},
     "output_type": "execute_result"
    }
   ],
   "source": [
    "df.describe(include=[np.number])"
   ]
  },
  {
   "cell_type": "markdown",
   "id": "235ce60b-44de-44b7-a2d1-eef9e68f0584",
   "metadata": {},
   "source": [
    "### 4. Data Analysis and Visualization (EDA)"
   ]
  },
  {
   "cell_type": "markdown",
   "id": "28f1a717-ff80-46ff-8a24-e4054d3f168c",
   "metadata": {},
   "source": [
    "#### Using a bar plot to compare Prices by Brand vise"
   ]
  },
  {
   "cell_type": "code",
   "execution_count": 944,
   "id": "1918dfbf-d1c5-48f2-a341-1fd4cbe8676e",
   "metadata": {},
   "outputs": [
    {
     "name": "stderr",
     "output_type": "stream",
     "text": [
      "C:\\Users\\Admin\\AppData\\Local\\Temp\\ipykernel_14696\\3277905474.py:3: FutureWarning: \n",
      "\n",
      "Passing `palette` without assigning `hue` is deprecated and will be removed in v0.14.0. Assign the `x` variable to `hue` and set `legend=False` for the same effect.\n",
      "\n",
      "  sns.barplot(x=\"Brands\", y=\"Price\", data=df, palette=\"coolwarm\")\n"
     ]
    },
    {
     "data": {
      "image/png": "[encoded data removed]",
      "text/plain": [
       "<Figure size 1000x600 with 1 Axes>"
      ]
     },
     "metadata": {},
     "output_type": "display_data"
    }
   ],
   "source": [
    "# barplot\n",
    "plt.figure(figsize=(10, 6))\n",
    "sns.barplot(x=\"Brands\", y=\"Price\", data=df, palette=\"coolwarm\")\n",
    "plt.title(\"AC Price Comparison\")\n",
    "plt.ylabel(\"Price (₹)\")\n",
    "plt.xticks(rotation=45)\n",
    "plt.show()"
   ]
  },
  {
   "cell_type": "markdown",
   "id": "e7a66ec9-e46d-459b-b3c0-b919c1c4f50a",
   "metadata": {},
   "source": [
    "#### Visualizing Price Distribution\n",
    "Using a box plot and a histogram to understand price spread and outliers."
   ]
  },
  {
   "cell_type": "code",
   "execution_count": 946,
   "id": "4ea5a2ef-3c67-45c6-855b-cdbc415997e3",
   "metadata": {},
   "outputs": [
    {
     "data": {
      "image/png": "[encoded data removed]",
      "text/plain": [
       "<Figure size 600x400 with 1 Axes>"
      ]
     },
     "metadata": {},
     "output_type": "display_data"
    }
   ],
   "source": [
    "# Boxplot\n",
    "plt.figure(figsize=(6, 4))\n",
    "sns.boxplot(df[\"Price\"])\n",
    "plt.title(\"AC Price Distribution\")\n",
    "plt.ylabel(\"Price (₹)\")\n",
    "plt.show()"
   ]
  },
  {
   "cell_type": "markdown",
   "id": "b0b54132-ef18-488b-b61f-45483a83d355",
   "metadata": {},
   "source": [
    "- The interquartile range (IQR) suggests that the majority of ACs are priced within the range ₹30,000 to ₹40,000.\n",
    "- The line inside the box represents the median price, showing that half of the ACs cost less than ₹35,000, and half cost more.\n",
    "- There is some spread, but prices are relatively clustered, hence we can say Price Variability is Moderate.\n",
    "- Several ACs are priced above ₹60,000, with some reaching up to ₹90,000.\n",
    "- These outliers suggest that premium models exist but are less common."
   ]
  },
  {
   "cell_type": "code",
   "execution_count": 948,
   "id": "37485c1e-06e2-4499-9f77-cd2445ad193c",
   "metadata": {},
   "outputs": [
    {
     "data": {
      "image/png": "[encoded data removed]",
      "text/plain": [
       "<Figure size 600x400 with 1 Axes>"
      ]
     },
     "metadata": {},
     "output_type": "display_data"
    }
   ],
   "source": [
    "# Histogram\n",
    "plt.figure(figsize=(6, 4))\n",
    "sns.histplot(df[\"Price\"], bins=5, kde=True, color=\"green\")\n",
    "plt.title(\"AC Price Histogram\")\n",
    "plt.xlabel(\"Price (₹)\")\n",
    "plt.ylabel(\"Frequency\")\n",
    "plt.show()"
   ]
  },
  {
   "cell_type": "markdown",
   "id": "3aa69614-13db-447f-9f0b-816ac2b035c8",
   "metadata": {},
   "source": [
    "- The highest frequency of AC prices falls between ₹35,000 and ₹40,000, indicating that most models are priced within this range.\n",
    "- The right-skewed distribution, shows that there are few air conditioners priced above ₹50,000."
   ]
  },
  {
   "cell_type": "code",
   "execution_count": 950,
   "id": "a99d949b-f3d3-4f65-9469-50eab7b64063",
   "metadata": {},
   "outputs": [],
   "source": [
    "df.set_index(\"Brands\", inplace=True)  # Set brand as index"
   ]
  },
  {
   "cell_type": "markdown",
   "id": "f9090315-8ff5-4b2d-9e22-7b125b36bfcc",
   "metadata": {},
   "source": [
    "#### Use heatmap to visualize relationships between price and multiple features."
   ]
  },
  {
   "cell_type": "code",
   "execution_count": 952,
   "id": "8248f251-14b2-4031-a0a7-f63e265a23e4",
   "metadata": {},
   "outputs": [
    {
     "data": {
      "image/png": "[encoded data removed]",
      "text/plain": [
       "<Figure size 600x400 with 2 Axes>"
      ]
     },
     "metadata": {},
     "output_type": "display_data"
    }
   ],
   "source": [
    "# Generate correlation matrix\n",
    "corr_matrix = df.corr()\n",
    "\n",
    "# Plot heatmap\n",
    "plt.figure(figsize=(6,4))\n",
    "sns.heatmap(df.corr(), annot=True, cmap=\"coolwarm\", fmt=\".2f\", linewidths=0.5)\n",
    "plt.title(\"Feature Correlation Heatmap\")\n",
    "plt.show()"
   ]
  },
  {
   "cell_type": "markdown",
   "id": "3fad3205-b68f-4a81-8a62-7d8371f2bfd6",
   "metadata": {},
   "source": [
    "- Larger capacity Air Conditioners (like 1.5 or 2 tons) are generally more expensive.\n",
    "\n",
    "- Higher Star-rated Air Conditioners are generally more expensive."
   ]
  },
  {
   "cell_type": "markdown",
   "id": "03f6faa6-2849-42ca-92c6-43de13599342",
   "metadata": {},
   "source": [
    "### Conclusions :\n",
    "1. Prices of Air Conditioners are affected by several features like Capacity, Star Ratings, etc.\n",
    "2. The majority of Air Conditioners are priced within the range ₹30,000 to ₹40,000.\n",
    "3. Prices of Air Conditioners generally doesn't depends on the Warranty and Customer Ratings."
   ]
  }
 ],
 "metadata": {
  "kernelspec": {
   "display_name": "Python [conda env:base] *",
   "language": "python",
   "name": "conda-base-py"
  },
  "language_info": {
   "codemirror_mode": {
    "name": "ipython",
    "version": 3
   },
   "file_extension": ".py",
   "mimetype": "text/x-python",
   "name": "python",
   "nbconvert_exporter": "python",
   "pygments_lexer": "ipython3",
   "version": "3.12.7"
  }
 },
 "nbformat": 4,
 "nbformat_minor": 5
}
